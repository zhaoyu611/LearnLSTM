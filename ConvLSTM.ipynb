{
 "cells": [
  {
   "cell_type": "code",
   "execution_count": 1,
   "metadata": {
    "collapsed": false,
    "deletable": true,
    "editable": true
   },
   "outputs": [
    {
     "name": "stdout",
     "output_type": "stream",
     "text": [
      "<__main__.BasicConvLSTMCell object at 0x7f44c4341190>\n",
      "Tensor(\"rnn/while/TensorArrayReadV3:0\", shape=(2, 3, 3, 3), dtype=float32)\n",
      "Tensor(\"rnn/while/Identity_2:0\", shape=(?, 3, 3, 6), dtype=float32)\n",
      "Tensor(\"rnn/while/Identity_3:0\", shape=(?, 3, 3, 6), dtype=float32)\n",
      "Tensor(\"rnn/while/basic_convlstm_cell/concat:0\", shape=(2, 3, 3, 9), dtype=float32)\n",
      "(5, 2, 3, 3, 6)\n"
     ]
    }
   ],
   "source": [
    "import tensorflow as tf\n",
    "import numpy as np\n",
    "\n",
    "class BasicConvLSTMCell(tf.contrib.rnn.RNNCell):\n",
    "\n",
    "  def __init__(self, shape, num_filters, kernel_size, forget_bias=1.0, \n",
    "               input_size=None, state_is_tuple=True, activation=tf.nn.tanh, reuse=False):\n",
    "    self._shape = shape\n",
    "    self._num_filters = num_filters\n",
    "    self._kernel_size = kernel_size\n",
    "    self._size = tf.TensorShape(shape+[self._num_filters])\n",
    "\n",
    "    self._forget_bias = forget_bias\n",
    "    self._state_is_tuple = state_is_tuple\n",
    "    self._activation = activation\n",
    "    self._reuse = reuse  \n",
    "  @property\n",
    "  def state_size(self):\n",
    "    return (tf.contrib.rnn.LSTMStateTuple(self._size, self._size)\n",
    "            if self._state_is_tuple else 2 * self._num_units)\n",
    "                    \n",
    "  @property\n",
    "  def output_size(self):\n",
    "    return self._size  \n",
    "  \n",
    "  def __call__(self, inputs, state, scope=None):\n",
    "    # we suppose inputs to be [time, batch_size, row, col, channel]\n",
    "    with tf.variable_scope(scope or \"basic_convlstm_cell\", reuse=self._reuse):\n",
    "      if self._state_is_tuple:\n",
    "        c, h = state\n",
    "      else:\n",
    "        c, h = array_ops.split(value=state, num_or_size_splits=2, axis=3)\n",
    "      \n",
    "\n",
    "      \n",
    "      inp_channel = inputs.get_shape().as_list()[-1]+self._num_filters\n",
    "      out_channel = self._num_filters * 4\n",
    "      \n",
    "      concat = tf.concat([inputs, h], axis=3)\n",
    "        \n",
    "      print inputs\n",
    "      print c\n",
    "      print h\n",
    "      print concat\n",
    "      kernel = tf.get_variable('kernel', shape=self._kernel_size+[inp_channel, out_channel])\n",
    "      \n",
    "      concat = tf.nn.conv2d(concat, filter=kernel, strides=(1,1,1,1), padding='SAME') \n",
    "      i, j, f, o = tf.split(value=concat, num_or_size_splits=4, axis=3)\n",
    "\n",
    "      new_c = (c * tf.sigmoid(f + self._forget_bias) + tf.sigmoid(i) *\n",
    "               self._activation(j))\n",
    "      new_h = self._activation(new_c) * tf.sigmoid(o)\n",
    "      if self._state_is_tuple:\n",
    "        new_state = tf.contrib.rnn.LSTMStateTuple(new_c, new_h)\n",
    "      else:\n",
    "        new_state = tf.concat([new_c, new_h], 3)\n",
    "      return new_h, new_state\n",
    "      \n",
    "if __name__ == '__main__':\n",
    "  inputs=tf.placeholder(tf.float32, [5,2,3,3,3])\n",
    "  cell = BasicConvLSTMCell([3,3], 6, [3,3]) \n",
    "  print cell\n",
    "  outputs, state = tf.nn.dynamic_rnn(cell, inputs, dtype=inputs.dtype, time_major=True)\n",
    "  with tf.Session() as sess:\n",
    "    inp = np.random.normal(size=(5,2,3,3,3))\n",
    "    sess.run(tf.global_variables_initializer())\n",
    "    o, s = sess.run([outputs, state], feed_dict={inputs:inp})\n",
    "    print o.shape #(5,2,3,3,6)"
   ]
  }
 ],
 "metadata": {
  "anaconda-cloud": {},
  "kernelspec": {
   "display_name": "Python [conda root]",
   "language": "python",
   "name": "conda-root-py"
  },
  "language_info": {
   "codemirror_mode": {
    "name": "ipython",
    "version": 2
   },
   "file_extension": ".py",
   "mimetype": "text/x-python",
   "name": "python",
   "nbconvert_exporter": "python",
   "pygments_lexer": "ipython2",
   "version": "2.7.12"
  }
 },
 "nbformat": 4,
 "nbformat_minor": 2
}
